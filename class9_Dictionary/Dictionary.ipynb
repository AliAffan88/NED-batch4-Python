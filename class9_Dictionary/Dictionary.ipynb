{
 "cells": [
  {
   "cell_type": "raw",
   "id": "20a95d18",
   "metadata": {},
   "source": [
    "{\n",
    "    key1:value1,\n",
    "    key2:value2,\n",
    "    key2:value3\n",
    "}\n",
    "\n",
    "# always start \"{\" and \"}\"        {}\n",
    "# key and value pair\n",
    "# : seprator between key and value\n",
    "# , seprator between key:value pair \n",
    "\n",
    "# key data types always should be string and int\n",
    "# value = any data type can be store or assign here"
   ]
  },
  {
   "cell_type": "code",
   "execution_count": 16,
   "id": "926d5f2e",
   "metadata": {},
   "outputs": [
    {
     "data": {
      "text/plain": [
       "'Muhammad Qasim'"
      ]
     },
     "execution_count": 16,
     "metadata": {},
     "output_type": "execute_result"
    }
   ],
   "source": [
    "#            0              1               2    3             4                 5\n",
    "data = [\"Muhammad Qasim\",\"Muhammad Aslam\", 30, \"MSDS\", [\"AI\",\"ML\",\"DL\",\"DS\"], \"KARAS g12C\"]\n",
    "# we will replace index with key\n",
    "data[0]"
   ]
  },
  {
   "cell_type": "code",
   "execution_count": 17,
   "id": "e6aaa1ea",
   "metadata": {},
   "outputs": [
    {
     "data": {
      "text/plain": [
       "list"
      ]
     },
     "execution_count": 17,
     "metadata": {},
     "output_type": "execute_result"
    }
   ],
   "source": [
    "type(data)"
   ]
  },
  {
   "cell_type": "code",
   "execution_count": 18,
   "id": "68045501",
   "metadata": {},
   "outputs": [
    {
     "data": {
      "text/plain": [
       "{'name': 'Muhammad Qasim',\n",
       " 'father name': 'Muhammad Aslam',\n",
       " 'age': 30,\n",
       " 'education': 'MSDS',\n",
       " 'skills': ['AI', 'ML', 'DL', 'DS'],\n",
       " 0: 'Pakistan zinda bad',\n",
       " 'mutation type': 'KARAS g12C'}"
      ]
     },
     "execution_count": 18,
     "metadata": {},
     "output_type": "execute_result"
    }
   ],
   "source": [
    "data = {\n",
    "    \"name\":\"Muhammad Qasim\",\n",
    "    \"father name\": \"Muhammad Aslam\",\n",
    "    \"age\": 30,\n",
    "    \"education\": \"MSDS\",\n",
    "    \"skills\": [\"AI\",\"ML\",\"DL\",\"DS\"],\n",
    "    0:\"Pakistan zinda bad\",\n",
    "    \"mutation type\": \"KARAS g12C\"\n",
    "}\n",
    "\n",
    "data"
   ]
  },
  {
   "cell_type": "code",
   "execution_count": 20,
   "id": "db5e8166",
   "metadata": {},
   "outputs": [
    {
     "name": "stdout",
     "output_type": "stream",
     "text": [
      "<class 'dict'>\n"
     ]
    }
   ],
   "source": [
    "print(type(data))"
   ]
  },
  {
   "cell_type": "markdown",
   "id": "20c7f8ca",
   "metadata": {},
   "source": [
    "# How to access value from dictionary"
   ]
  },
  {
   "cell_type": "markdown",
   "id": "36abd730",
   "metadata": {},
   "source": [
    "```\n",
    "dictionary[key]\n",
    "```"
   ]
  },
  {
   "cell_type": "code",
   "execution_count": 8,
   "id": "6fc28051",
   "metadata": {},
   "outputs": [],
   "source": [
    "data = {\n",
    "    \"name\":\"Muhammad Qasim\",\n",
    "    \"father name\": \"Muhammad Aslam\",\n",
    "    \"age\": 30,\n",
    "    \"education\": \"MSDS\",\n",
    "    \"skills\": [\"AI\",\"ML\",\"DL\",\"DS\"],\n",
    "    0:\"Pakistan zinda bad\",\n",
    "    \"mutation type\": \"KARAS g12C\"\n",
    "}"
   ]
  },
  {
   "cell_type": "code",
   "execution_count": 15,
   "id": "195eca1c",
   "metadata": {},
   "outputs": [
    {
     "ename": "KeyError",
     "evalue": "1",
     "output_type": "error",
     "traceback": [
      "\u001b[0;31m-----------------------------------------------------------------------\u001b[0m",
      "\u001b[0;31mKeyError\u001b[0m                              Traceback (most recent call last)",
      "\u001b[0;32m<ipython-input-15-c402bf503b75>\u001b[0m in \u001b[0;36m<module>\u001b[0;34m\u001b[0m\n\u001b[0;32m----> 1\u001b[0;31m \u001b[0mdata\u001b[0m\u001b[0;34m[\u001b[0m\u001b[0;36m1\u001b[0m\u001b[0;34m]\u001b[0m\u001b[0;34m\u001b[0m\u001b[0;34m\u001b[0m\u001b[0m\n\u001b[0m",
      "\u001b[0;31mKeyError\u001b[0m: 1"
     ]
    }
   ],
   "source": [
    "data[1]"
   ]
  },
  {
   "cell_type": "code",
   "execution_count": 14,
   "id": "54fe22fa",
   "metadata": {},
   "outputs": [
    {
     "data": {
      "text/plain": [
       "'Pakistan zinda bad'"
      ]
     },
     "execution_count": 14,
     "metadata": {},
     "output_type": "execute_result"
    }
   ],
   "source": [
    "data[0]# look like passing index but it is key of dictionary"
   ]
  },
  {
   "cell_type": "code",
   "execution_count": 9,
   "id": "b0bd33d5",
   "metadata": {},
   "outputs": [
    {
     "data": {
      "text/plain": [
       "'Muhammad Qasim'"
      ]
     },
     "execution_count": 9,
     "metadata": {},
     "output_type": "execute_result"
    }
   ],
   "source": [
    "data['name']"
   ]
  },
  {
   "cell_type": "code",
   "execution_count": 10,
   "id": "dfcbf201",
   "metadata": {},
   "outputs": [
    {
     "data": {
      "text/plain": [
       "'Muhammad Aslam'"
      ]
     },
     "execution_count": 10,
     "metadata": {},
     "output_type": "execute_result"
    }
   ],
   "source": [
    "data['father name']"
   ]
  },
  {
   "cell_type": "code",
   "execution_count": 11,
   "id": "9c84dad5",
   "metadata": {},
   "outputs": [
    {
     "data": {
      "text/plain": [
       "30"
      ]
     },
     "execution_count": 11,
     "metadata": {},
     "output_type": "execute_result"
    }
   ],
   "source": [
    "data['age']"
   ]
  },
  {
   "cell_type": "code",
   "execution_count": 13,
   "id": "f1a6e1bd",
   "metadata": {},
   "outputs": [
    {
     "data": {
      "text/plain": [
       "'KARAS g12C'"
      ]
     },
     "execution_count": 13,
     "metadata": {},
     "output_type": "execute_result"
    }
   ],
   "source": [
    "data['mutation type']"
   ]
  },
  {
   "cell_type": "markdown",
   "id": "f724cdc5",
   "metadata": {},
   "source": [
    "# example of dictionary or JSON data \n",
    "https://dummyjson.com/products"
   ]
  },
  {
   "cell_type": "code",
   "execution_count": 22,
   "id": "6078901f",
   "metadata": {},
   "outputs": [
    {
     "data": {
      "text/html": [
       "<div>\n",
       "<style scoped>\n",
       "    .dataframe tbody tr th:only-of-type {\n",
       "        vertical-align: middle;\n",
       "    }\n",
       "\n",
       "    .dataframe tbody tr th {\n",
       "        vertical-align: top;\n",
       "    }\n",
       "\n",
       "    .dataframe thead th {\n",
       "        text-align: right;\n",
       "    }\n",
       "</style>\n",
       "<table border=\"1\" class=\"dataframe\">\n",
       "  <thead>\n",
       "    <tr style=\"text-align: right;\">\n",
       "      <th></th>\n",
       "      <th>name</th>\n",
       "      <th>fname</th>\n",
       "      <th>courses</th>\n",
       "    </tr>\n",
       "  </thead>\n",
       "  <tbody>\n",
       "    <tr>\n",
       "      <th>0</th>\n",
       "      <td>Qasim</td>\n",
       "      <td>Aslam</td>\n",
       "      <td>ML</td>\n",
       "    </tr>\n",
       "    <tr>\n",
       "      <th>1</th>\n",
       "      <td>Hamza</td>\n",
       "      <td>Abid</td>\n",
       "      <td>Python</td>\n",
       "    </tr>\n",
       "    <tr>\n",
       "      <th>2</th>\n",
       "      <td>Junaid</td>\n",
       "      <td>Iqbal</td>\n",
       "      <td>DS</td>\n",
       "    </tr>\n",
       "  </tbody>\n",
       "</table>\n",
       "</div>"
      ],
      "text/plain": [
       "     name  fname courses\n",
       "0   Qasim  Aslam      ML\n",
       "1   Hamza   Abid  Python\n",
       "2  Junaid  Iqbal      DS"
      ]
     },
     "execution_count": 22,
     "metadata": {},
     "output_type": "execute_result"
    }
   ],
   "source": [
    "data = {\n",
    "    \"name\":[\"Qasim\",\"Hamza\",\"Junaid\"],\n",
    "    'fname': [\"Aslam\",\"Abid\",\"Iqbal\"],\n",
    "    \"courses\": [\"ML\",\"Python\",\"DS\"]\n",
    "}\n",
    "\n",
    "import pandas as pd\n",
    "df = pd.DataFrame(data)\n",
    "\n",
    "df"
   ]
  },
  {
   "cell_type": "code",
   "execution_count": 24,
   "id": "77bdbe1b",
   "metadata": {},
   "outputs": [
    {
     "data": {
      "text/html": [
       "<div>\n",
       "<style scoped>\n",
       "    .dataframe tbody tr th:only-of-type {\n",
       "        vertical-align: middle;\n",
       "    }\n",
       "\n",
       "    .dataframe tbody tr th {\n",
       "        vertical-align: top;\n",
       "    }\n",
       "\n",
       "    .dataframe thead th {\n",
       "        text-align: right;\n",
       "    }\n",
       "</style>\n",
       "<table border=\"1\" class=\"dataframe\">\n",
       "  <thead>\n",
       "    <tr style=\"text-align: right;\">\n",
       "      <th></th>\n",
       "      <th>products</th>\n",
       "      <th>total</th>\n",
       "      <th>skip</th>\n",
       "      <th>limit</th>\n",
       "    </tr>\n",
       "  </thead>\n",
       "  <tbody>\n",
       "    <tr>\n",
       "      <th>0</th>\n",
       "      <td>{'id': 1, 'title': 'iPhone 9', 'description': ...</td>\n",
       "      <td>100</td>\n",
       "      <td>0</td>\n",
       "      <td>30</td>\n",
       "    </tr>\n",
       "    <tr>\n",
       "      <th>1</th>\n",
       "      <td>{'id': 2, 'title': 'iPhone X', 'description': ...</td>\n",
       "      <td>100</td>\n",
       "      <td>0</td>\n",
       "      <td>30</td>\n",
       "    </tr>\n",
       "    <tr>\n",
       "      <th>2</th>\n",
       "      <td>{'id': 3, 'title': 'Samsung Universe 9', 'desc...</td>\n",
       "      <td>100</td>\n",
       "      <td>0</td>\n",
       "      <td>30</td>\n",
       "    </tr>\n",
       "    <tr>\n",
       "      <th>3</th>\n",
       "      <td>{'id': 4, 'title': 'OPPOF19', 'description': '...</td>\n",
       "      <td>100</td>\n",
       "      <td>0</td>\n",
       "      <td>30</td>\n",
       "    </tr>\n",
       "    <tr>\n",
       "      <th>4</th>\n",
       "      <td>{'id': 5, 'title': 'Huawei P30', 'description'...</td>\n",
       "      <td>100</td>\n",
       "      <td>0</td>\n",
       "      <td>30</td>\n",
       "    </tr>\n",
       "  </tbody>\n",
       "</table>\n",
       "</div>"
      ],
      "text/plain": [
       "                                            products  total  skip  limit\n",
       "0  {'id': 1, 'title': 'iPhone 9', 'description': ...    100     0     30\n",
       "1  {'id': 2, 'title': 'iPhone X', 'description': ...    100     0     30\n",
       "2  {'id': 3, 'title': 'Samsung Universe 9', 'desc...    100     0     30\n",
       "3  {'id': 4, 'title': 'OPPOF19', 'description': '...    100     0     30\n",
       "4  {'id': 5, 'title': 'Huawei P30', 'description'...    100     0     30"
      ]
     },
     "execution_count": 24,
     "metadata": {},
     "output_type": "execute_result"
    }
   ],
   "source": [
    "df1 = pd.read_json(\"https://dummyjson.com/products\")\n",
    "df1.head()"
   ]
  },
  {
   "cell_type": "markdown",
   "id": "159e7cf6",
   "metadata": {},
   "source": [
    "# How we can create list"
   ]
  },
  {
   "cell_type": "code",
   "execution_count": 33,
   "id": "6d05d424",
   "metadata": {},
   "outputs": [
    {
     "name": "stdout",
     "output_type": "stream",
     "text": [
      "{'name': 'Muhammad Qasim', 'age': 30, 'course': 'AI'}\n",
      "{'name': 'Asif Khan', 'age': 30, 'course': 'AI'}\n"
     ]
    }
   ],
   "source": [
    "dic1  = {}\n",
    "\n",
    "dic1['name'] = \"Muhammad Qasim\"\n",
    "\n",
    "dic1['age'] = 30\n",
    "dic1[\"course\"] = \"AI\"\n",
    "\n",
    "print(dic1)\n",
    "dic1['name'] = \"Asif Khan\"# update or overwrite\n",
    "print(dic1)"
   ]
  },
  {
   "cell_type": "code",
   "execution_count": 39,
   "id": "e29448b0",
   "metadata": {},
   "outputs": [
    {
     "data": {
      "text/plain": [
       "['clear',\n",
       " 'copy',\n",
       " 'fromkeys',\n",
       " 'get',\n",
       " 'items',\n",
       " 'keys',\n",
       " 'pop',\n",
       " 'popitem',\n",
       " 'setdefault',\n",
       " 'update',\n",
       " 'values']"
      ]
     },
     "execution_count": 39,
     "metadata": {},
     "output_type": "execute_result"
    }
   ],
   "source": [
    "[i for i in dir(data) if \"__\" not in i]"
   ]
  },
  {
   "cell_type": "code",
   "execution_count": 35,
   "id": "1cb253e1",
   "metadata": {},
   "outputs": [],
   "source": []
  },
  {
   "cell_type": "code",
   "execution_count": 43,
   "id": "0ecc036a",
   "metadata": {},
   "outputs": [
    {
     "data": {
      "text/plain": [
       "{'name': 'Muhammad Qasim',\n",
       " 'fname': 'Muhammad Aslam',\n",
       " 'course': 'AI',\n",
       " 'message': 'Muhammad Qasim AI Student'}"
      ]
     },
     "execution_count": 43,
     "metadata": {},
     "output_type": "execute_result"
    }
   ],
   "source": [
    "data  = {}\n",
    "#     key               value\n",
    "data['name'] = \"Muhammad Qasim\" # add key1 value1\n",
    "data['fname'] = \"Muhammad Aslam\"\n",
    "data['course'] = \"AI\"\n",
    "data['message'] = data['name'] +\" \" +data['course'] + \" Student\"\n",
    "\n",
    "data"
   ]
  },
  {
   "cell_type": "code",
   "execution_count": 56,
   "id": "44382493",
   "metadata": {},
   "outputs": [
    {
     "data": {
      "text/plain": [
       "['clear',\n",
       " 'copy',\n",
       " 'fromkeys',\n",
       " 'get',\n",
       " 'items',\n",
       " 'keys',\n",
       " 'pop',\n",
       " 'popitem',\n",
       " 'setdefault',\n",
       " 'update',\n",
       " 'values']"
      ]
     },
     "execution_count": 56,
     "metadata": {},
     "output_type": "execute_result"
    }
   ],
   "source": [
    "[i for i in dir(dict) if \"__\" not in i]"
   ]
  },
  {
   "cell_type": "code",
   "execution_count": 45,
   "id": "97f0dd47",
   "metadata": {},
   "outputs": [
    {
     "name": "stdout",
     "output_type": "stream",
     "text": [
      "{'name': 'Muhammad Qasim', 'fname': 'Muhammad Aslam', 'course': 'AI', 'message': 'Muhammad Qasim AI Student'}\n",
      "{}\n"
     ]
    }
   ],
   "source": [
    "data  = {}\n",
    "#     key               value\n",
    "data['name'] = \"Muhammad Qasim\" # add key1 value1\n",
    "data['fname'] = \"Muhammad Aslam\"\n",
    "data['course'] = \"AI\"\n",
    "data['message'] = data['name'] +\" \" +data['course'] + \" Student\"\n",
    "\n",
    "print(data)\n",
    "data.clear()# clear all key value pairs\n",
    "print(data)"
   ]
  },
  {
   "cell_type": "code",
   "execution_count": 46,
   "id": "9c5c48ec",
   "metadata": {},
   "outputs": [
    {
     "data": {
      "text/plain": [
       "{}"
      ]
     },
     "execution_count": 46,
     "metadata": {},
     "output_type": "execute_result"
    }
   ],
   "source": [
    "data"
   ]
  },
  {
   "cell_type": "code",
   "execution_count": 47,
   "id": "97dc3c7e",
   "metadata": {},
   "outputs": [
    {
     "name": "stdout",
     "output_type": "stream",
     "text": [
      "{'name': 'Muhammad Qasim', 'fname': 'Muhammad Aslam', 'course': 'AI', 'message': 'Muhammad Qasim AI Student'}\n"
     ]
    },
    {
     "ename": "NameError",
     "evalue": "name 'data' is not defined",
     "output_type": "error",
     "traceback": [
      "\u001b[0;31m-----------------------------------------------------------------------\u001b[0m",
      "\u001b[0;31mNameError\u001b[0m                             Traceback (most recent call last)",
      "\u001b[0;32m<ipython-input-47-f3712eee61db>\u001b[0m in \u001b[0;36m<module>\u001b[0;34m\u001b[0m\n\u001b[1;32m      8\u001b[0m \u001b[0mprint\u001b[0m\u001b[0;34m(\u001b[0m\u001b[0mdata\u001b[0m\u001b[0;34m)\u001b[0m\u001b[0;34m\u001b[0m\u001b[0;34m\u001b[0m\u001b[0m\n\u001b[1;32m      9\u001b[0m \u001b[0;32mdel\u001b[0m \u001b[0mdata\u001b[0m \u001b[0;31m# clear all key value pairs\u001b[0m\u001b[0;34m\u001b[0m\u001b[0;34m\u001b[0m\u001b[0m\n\u001b[0;32m---> 10\u001b[0;31m \u001b[0mprint\u001b[0m\u001b[0;34m(\u001b[0m\u001b[0mdata\u001b[0m\u001b[0;34m)\u001b[0m\u001b[0;34m\u001b[0m\u001b[0;34m\u001b[0m\u001b[0m\n\u001b[0m",
      "\u001b[0;31mNameError\u001b[0m: name 'data' is not defined"
     ]
    }
   ],
   "source": [
    "data  = {}\n",
    "#     key               value\n",
    "data['name'] = \"Muhammad Qasim\" # add key1 value1\n",
    "data['fname'] = \"Muhammad Aslam\"\n",
    "data['course'] = \"AI\"\n",
    "data['message'] = data['name'] +\" \" +data['course'] + \" Student\"\n",
    "\n",
    "print(data)\n",
    "del data # delete data variable\n",
    "print(data)"
   ]
  },
  {
   "cell_type": "markdown",
   "id": "71e4ef59",
   "metadata": {},
   "source": [
    "# shallow copy and deep copy1"
   ]
  },
  {
   "cell_type": "code",
   "execution_count": 48,
   "id": "63f8ac43",
   "metadata": {},
   "outputs": [],
   "source": [
    "data = {\n",
    "    'name':'Qasim',\n",
    "    'fname':'Aslam',\n",
    "    'age':30,\n",
    "    \n",
    "}\n",
    "\n",
    "data1 = data\n",
    "data2 = data\n",
    "data3 = data"
   ]
  },
  {
   "cell_type": "code",
   "execution_count": 49,
   "id": "b0166501",
   "metadata": {},
   "outputs": [
    {
     "name": "stdout",
     "output_type": "stream",
     "text": [
      "{'name': 'Qasim', 'fname': 'Aslam', 'age': 30}\n",
      "{'name': 'Qasim', 'fname': 'Aslam', 'age': 30}\n",
      "{'name': 'Qasim', 'fname': 'Aslam', 'age': 30}\n",
      "{'name': 'Qasim', 'fname': 'Aslam', 'age': 30}\n"
     ]
    }
   ],
   "source": [
    "print(data)\n",
    "print(data1)\n",
    "print(data2)\n",
    "print(data3)"
   ]
  },
  {
   "cell_type": "code",
   "execution_count": 50,
   "id": "11820027",
   "metadata": {},
   "outputs": [
    {
     "name": "stdout",
     "output_type": "stream",
     "text": [
      "{'name': 'Muhammad Qasim', 'fname': 'Aslam', 'age': 30}\n",
      "{'name': 'Muhammad Qasim', 'fname': 'Aslam', 'age': 30}\n",
      "{'name': 'Muhammad Qasim', 'fname': 'Aslam', 'age': 30}\n",
      "{'name': 'Muhammad Qasim', 'fname': 'Aslam', 'age': 30}\n"
     ]
    }
   ],
   "source": [
    "data = {\n",
    "    'name':'Qasim',\n",
    "    'fname':'Aslam',\n",
    "    'age':30,\n",
    "    \n",
    "}\n",
    "\n",
    "\n",
    "data1 = data # nickname = shallow copy\n",
    "data2 = data# nickname = shallow copy\n",
    "data3 = data# nickname = shallow copy\n",
    "\n",
    "data3['name'] = \"Muhammad Qasim\"\n",
    "\n",
    "print(data)\n",
    "print(data1)\n",
    "print(data2)\n",
    "print(data3)"
   ]
  },
  {
   "cell_type": "code",
   "execution_count": 52,
   "id": "6ab40b9a",
   "metadata": {},
   "outputs": [
    {
     "name": "stdout",
     "output_type": "stream",
     "text": [
      "{'name': 'Qasim', 'fname': 'Aslam', 'age': 30}\n",
      "{'name': 'Qasim', 'fname': 'Aslam', 'age': 30}\n",
      "{'name': 'Qasim', 'fname': 'Aslam', 'age': 30}\n",
      "{'name': 'Muhammad Qasim', 'fname': 'Aslam', 'age': 30}\n"
     ]
    }
   ],
   "source": [
    "data = {\n",
    "    'name':'Qasim',\n",
    "    'fname':'Aslam',\n",
    "    'age':30,\n",
    "    \n",
    "}\n",
    "\n",
    "\n",
    "data1 = data.copy() # Deep Copy\n",
    "data2 = data.copy() # Deep Copy\n",
    "data3 = data.copy() # Deep Copy\n",
    "\n",
    "data3['name'] = \"Muhammad Qasim\"\n",
    "\n",
    "print(data)\n",
    "print(data1)\n",
    "print(data2)\n",
    "print(data3)"
   ]
  },
  {
   "cell_type": "code",
   "execution_count": 53,
   "id": "d11284c0",
   "metadata": {},
   "outputs": [
    {
     "data": {
      "text/plain": [
       "{'name': None, 'Fname': None}"
      ]
     },
     "execution_count": 53,
     "metadata": {},
     "output_type": "execute_result"
    }
   ],
   "source": [
    "{\"name\":None,\n",
    "\"Fname\":None}"
   ]
  },
  {
   "cell_type": "code",
   "execution_count": 55,
   "id": "993f2306",
   "metadata": {},
   "outputs": [
    {
     "data": {
      "text/plain": [
       "dict"
      ]
     },
     "execution_count": 55,
     "metadata": {},
     "output_type": "execute_result"
    }
   ],
   "source": [
    "# data types below\n",
    "str\n",
    "int\n",
    "list\n",
    "tuple\n",
    "dict"
   ]
  },
  {
   "cell_type": "markdown",
   "id": "99bfc492",
   "metadata": {},
   "source": [
    "# Create Dictionary with list of keys"
   ]
  },
  {
   "cell_type": "code",
   "execution_count": 57,
   "id": "0da4eb8a",
   "metadata": {},
   "outputs": [
    {
     "data": {
      "text/plain": [
       "{'name': None,\n",
       " 'fname': None,\n",
       " 'course': None,\n",
       " 'educations': None,\n",
       " 'address': None,\n",
       " 'timing': None,\n",
       " 'contact': None}"
      ]
     },
     "execution_count": 57,
     "metadata": {},
     "output_type": "execute_result"
    }
   ],
   "source": [
    "keys = [\"name\",'fname','course','educations','address','timing','contact']\n",
    "\n",
    "data = dict.fromkeys(keys)\n",
    "data"
   ]
  },
  {
   "cell_type": "code",
   "execution_count": 58,
   "id": "f5785261",
   "metadata": {},
   "outputs": [
    {
     "data": {
      "text/plain": [
       "{'name': None,\n",
       " 'fname': None,\n",
       " 'course': None,\n",
       " 'educations': None,\n",
       " 'address': None,\n",
       " 'timing': None,\n",
       " 'contact': None}"
      ]
     },
     "execution_count": 58,
     "metadata": {},
     "output_type": "execute_result"
    }
   ],
   "source": [
    "dict.fromkeys(keys)"
   ]
  },
  {
   "cell_type": "code",
   "execution_count": 59,
   "id": "2bfbf5e5",
   "metadata": {},
   "outputs": [
    {
     "data": {
      "text/plain": [
       "{'name': 'Not available',\n",
       " 'fname': 'Not available',\n",
       " 'course': 'Not available',\n",
       " 'educations': 'Not available',\n",
       " 'address': 'Not available',\n",
       " 'timing': 'Not available',\n",
       " 'contact': 'Not available'}"
      ]
     },
     "execution_count": 59,
     "metadata": {},
     "output_type": "execute_result"
    }
   ],
   "source": [
    "keys = [\"name\",'fname','course','educations','address','timing','contact']\n",
    "\n",
    "data = dict.fromkeys(keys,\"Not available\")\n",
    "data"
   ]
  },
  {
   "cell_type": "markdown",
   "id": "26e1d828",
   "metadata": {},
   "source": [
    "# problem if key is not available then it show the error"
   ]
  },
  {
   "cell_type": "code",
   "execution_count": 63,
   "id": "c46f4d67",
   "metadata": {},
   "outputs": [
    {
     "ename": "KeyError",
     "evalue": "'cnic'",
     "output_type": "error",
     "traceback": [
      "\u001b[0;31m-----------------------------------------------------------------------\u001b[0m",
      "\u001b[0;31mKeyError\u001b[0m                              Traceback (most recent call last)",
      "\u001b[0;32m<ipython-input-63-b46bc9d31079>\u001b[0m in \u001b[0;36m<module>\u001b[0;34m\u001b[0m\n\u001b[1;32m      9\u001b[0m }\n\u001b[1;32m     10\u001b[0m \u001b[0;34m\u001b[0m\u001b[0m\n\u001b[0;32m---> 11\u001b[0;31m \u001b[0mprint\u001b[0m\u001b[0;34m(\u001b[0m\u001b[0mdata\u001b[0m\u001b[0;34m[\u001b[0m\u001b[0;34m'cnic'\u001b[0m\u001b[0;34m]\u001b[0m\u001b[0;34m)\u001b[0m\u001b[0;31m# error KeyErro, it will not print others below steps\u001b[0m\u001b[0;34m\u001b[0m\u001b[0;34m\u001b[0m\u001b[0m\n\u001b[0m\u001b[1;32m     12\u001b[0m \u001b[0mprint\u001b[0m\u001b[0;34m(\u001b[0m\u001b[0;34m\"Pakistan\"\u001b[0m\u001b[0;34m)\u001b[0m\u001b[0;34m\u001b[0m\u001b[0;34m\u001b[0m\u001b[0m\n\u001b[1;32m     13\u001b[0m \u001b[0mprint\u001b[0m\u001b[0;34m(\u001b[0m\u001b[0;34m\"Hello World!\"\u001b[0m\u001b[0;34m)\u001b[0m\u001b[0;34m\u001b[0m\u001b[0;34m\u001b[0m\u001b[0m\n",
      "\u001b[0;31mKeyError\u001b[0m: 'cnic'"
     ]
    }
   ],
   "source": [
    "data = {\n",
    "    \"name\":\"Muhammad Qasim\",\n",
    "    \"father name\": \"Muhammad Aslam\",\n",
    "    \"age\": 30,\n",
    "    \"education\": \"MSDS\",\n",
    "    \"skills\": [\"AI\",\"ML\",\"DL\",\"DS\"],\n",
    "    0:\"Pakistan zinda bad\",\n",
    "    \"mutation type\": \"KARAS g12C\"\n",
    "}\n",
    "\n",
    "print(data['cnic'])# error KeyErro, it will not print others below steps\n",
    "print(\"Pakistan\")\n",
    "print(\"Hello World!\")\n",
    "print(\"We Love our country!\")"
   ]
  },
  {
   "cell_type": "code",
   "execution_count": 64,
   "id": "6f220486",
   "metadata": {},
   "outputs": [
    {
     "data": {
      "text/plain": [
       "'Muhammad Qasim'"
      ]
     },
     "execution_count": 64,
     "metadata": {},
     "output_type": "execute_result"
    }
   ],
   "source": [
    "data = {\n",
    "    \"name\":\"Muhammad Qasim\",\n",
    "    \"father name\": \"Muhammad Aslam\",\n",
    "    \"age\": 30,\n",
    "    \"education\": \"MSDS\",\n",
    "    \"skills\": [\"AI\",\"ML\",\"DL\",\"DS\"],\n",
    "    0:\"Pakistan zinda bad\",\n",
    "    \"mutation type\": \"KARAS g12C\"\n",
    "}\n",
    "\n",
    "data.get(\"name\")"
   ]
  },
  {
   "cell_type": "code",
   "execution_count": 65,
   "id": "abab9064",
   "metadata": {},
   "outputs": [],
   "source": [
    "data.get(\"cnic\")"
   ]
  },
  {
   "cell_type": "code",
   "execution_count": 66,
   "id": "6c2e157b",
   "metadata": {},
   "outputs": [
    {
     "name": "stdout",
     "output_type": "stream",
     "text": [
      "Pakistan\n",
      "Hello World!\n",
      "We Love our country!\n"
     ]
    }
   ],
   "source": [
    "print(data.get(\"cnic\"))\n",
    "print(\"Pakistan\")\n",
    "print(\"Hello World!\")\n",
    "print(\"We Love our country!\")"
   ]
  },
  {
   "cell_type": "code",
   "execution_count": 68,
   "id": "281b96c4",
   "metadata": {},
   "outputs": [
    {
     "name": "stdout",
     "output_type": "stream",
     "text": [
      "Muhammad Qasim\n",
      "Pakistan\n",
      "Hello World!\n",
      "We Love our country!\n"
     ]
    }
   ],
   "source": [
    "print(data.get(\"name\"))\n",
    "print(\"Pakistan\")\n",
    "print(\"Hello World!\")\n",
    "print(\"We Love our country!\")"
   ]
  },
  {
   "cell_type": "code",
   "execution_count": 71,
   "id": "5bd56c17",
   "metadata": {},
   "outputs": [
    {
     "name": "stdout",
     "output_type": "stream",
     "text": [
      "Not available\n"
     ]
    }
   ],
   "source": [
    "print(data.get(\"cnic\",\"Not available\"))"
   ]
  },
  {
   "cell_type": "code",
   "execution_count": 70,
   "id": "64095365",
   "metadata": {},
   "outputs": [
    {
     "name": "stdout",
     "output_type": "stream",
     "text": [
      "Muhammad Qasim\n"
     ]
    }
   ],
   "source": [
    "print(data.get(\"name\",\"Not available\"))"
   ]
  },
  {
   "cell_type": "code",
   "execution_count": 74,
   "id": "58ebc4db",
   "metadata": {},
   "outputs": [],
   "source": [
    "data.get(\"cnic\")"
   ]
  },
  {
   "cell_type": "markdown",
   "id": "7622c253",
   "metadata": {},
   "source": [
    "# Item, key, value"
   ]
  },
  {
   "cell_type": "code",
   "execution_count": 75,
   "id": "5db4acfe",
   "metadata": {},
   "outputs": [
    {
     "data": {
      "text/plain": [
       "{'name': 'Muhammad Qasim',\n",
       " 'father name': 'Muhammad Aslam',\n",
       " 'age': 30,\n",
       " 'education': 'MSDS',\n",
       " 'skills': ['AI', 'ML', 'DL', 'DS'],\n",
       " 0: 'Pakistan zinda bad',\n",
       " 'mutation type': 'KARAS g12C'}"
      ]
     },
     "execution_count": 75,
     "metadata": {},
     "output_type": "execute_result"
    }
   ],
   "source": [
    "data = {\n",
    "    \"name\":\"Muhammad Qasim\",\n",
    "    \"father name\": \"Muhammad Aslam\",\n",
    "    \"age\": 30,\n",
    "    \"education\": \"MSDS\",\n",
    "    \"skills\": [\"AI\",\"ML\",\"DL\",\"DS\"],\n",
    "    0:\"Pakistan zinda bad\",\n",
    "    \"mutation type\": \"KARAS g12C\"\n",
    "}\n",
    "data"
   ]
  },
  {
   "cell_type": "code",
   "execution_count": 76,
   "id": "f2d76d4a",
   "metadata": {},
   "outputs": [
    {
     "data": {
      "text/plain": [
       "dict_items([('name', 'Muhammad Qasim'), ('father name', 'Muhammad Aslam'), ('age', 30), ('education', 'MSDS'), ('skills', ['AI', 'ML', 'DL', 'DS']), (0, 'Pakistan zinda bad'), ('mutation type', 'KARAS g12C')])"
      ]
     },
     "execution_count": 76,
     "metadata": {},
     "output_type": "execute_result"
    }
   ],
   "source": [
    "data.items()"
   ]
  },
  {
   "cell_type": "code",
   "execution_count": 78,
   "id": "85244677",
   "metadata": {},
   "outputs": [
    {
     "data": {
      "text/plain": [
       "dict_keys(['name', 'father name', 'age', 'education', 'skills', 0, 'mutation type'])"
      ]
     },
     "execution_count": 78,
     "metadata": {},
     "output_type": "execute_result"
    }
   ],
   "source": [
    "data.keys()"
   ]
  },
  {
   "cell_type": "code",
   "execution_count": 79,
   "id": "0ef65316",
   "metadata": {},
   "outputs": [
    {
     "data": {
      "text/plain": [
       "dict_values(['Muhammad Qasim', 'Muhammad Aslam', 30, 'MSDS', ['AI', 'ML', 'DL', 'DS'], 'Pakistan zinda bad', 'KARAS g12C'])"
      ]
     },
     "execution_count": 79,
     "metadata": {},
     "output_type": "execute_result"
    }
   ],
   "source": [
    "data.values()"
   ]
  },
  {
   "cell_type": "code",
   "execution_count": 80,
   "id": "d0a1d7d2",
   "metadata": {},
   "outputs": [
    {
     "name": "stdout",
     "output_type": "stream",
     "text": [
      "['ABC', 'Paki', 'hell', 123]\n"
     ]
    }
   ],
   "source": [
    "l1 = ['ABC',\"Paki\",\"hell\",123]\n",
    "print(l1)"
   ]
  },
  {
   "cell_type": "code",
   "execution_count": 82,
   "id": "e5c7208a",
   "metadata": {},
   "outputs": [
    {
     "data": {
      "text/plain": [
       "False"
      ]
     },
     "execution_count": 82,
     "metadata": {},
     "output_type": "execute_result"
    }
   ],
   "source": [
    "'xyz' in l1 # boolean return"
   ]
  },
  {
   "cell_type": "code",
   "execution_count": 84,
   "id": "d94dcccd",
   "metadata": {},
   "outputs": [
    {
     "name": "stdout",
     "output_type": "stream",
     "text": [
      "ABC\n",
      "Paki\n",
      "hell\n",
      "123\n"
     ]
    }
   ],
   "source": [
    "l1 = ['ABC',\"Paki\",\"hell\",123]\n",
    "\n",
    "for abc in l1:\n",
    "    print(abc)"
   ]
  },
  {
   "cell_type": "code",
   "execution_count": 86,
   "id": "227b2aca",
   "metadata": {},
   "outputs": [
    {
     "name": "stdout",
     "output_type": "stream",
     "text": [
      "ABC\n",
      "Paki\n",
      "hell\n",
      "123\n",
      "123\n"
     ]
    }
   ],
   "source": [
    "l1 = ['ABC',\"Paki\",\"hell\",123]\n",
    "\n",
    "for xyz in l1:\n",
    "    print(xyz)# local vairable scop\n"
   ]
  },
  {
   "cell_type": "code",
   "execution_count": 87,
   "id": "6c8949f3",
   "metadata": {},
   "outputs": [
    {
     "name": "stdout",
     "output_type": "stream",
     "text": [
      "name\n",
      "father name\n",
      "age\n",
      "education\n",
      "skills\n",
      "0\n",
      "mutation type\n"
     ]
    }
   ],
   "source": [
    "data = {\n",
    "    \"name\":\"Muhammad Qasim\",\n",
    "    \"father name\": \"Muhammad Aslam\",\n",
    "    \"age\": 30,\n",
    "    \"education\": \"MSDS\",\n",
    "    \"skills\": [\"AI\",\"ML\",\"DL\",\"DS\"],\n",
    "    0:\"Pakistan zinda bad\",\n",
    "    \"mutation type\": \"KARAS g12C\"\n",
    "}\n",
    "\n",
    "\n",
    "for abc in data:\n",
    "    print(abc)"
   ]
  },
  {
   "cell_type": "code",
   "execution_count": 89,
   "id": "e6179f75",
   "metadata": {},
   "outputs": [
    {
     "name": "stdout",
     "output_type": "stream",
     "text": [
      "('name', 'Muhammad Qasim')\n",
      "('father name', 'Muhammad Aslam')\n",
      "('age', 30)\n",
      "('education', 'MSDS')\n",
      "('skills', ['AI', 'ML', 'DL', 'DS'])\n",
      "(0, 'Pakistan zinda bad')\n",
      "('mutation type', 'KARAS g12C')\n"
     ]
    }
   ],
   "source": [
    "data = {\n",
    "    \"name\":\"Muhammad Qasim\",\n",
    "    \"father name\": \"Muhammad Aslam\",\n",
    "    \"age\": 30,\n",
    "    \"education\": \"MSDS\",\n",
    "    \"skills\": [\"AI\",\"ML\",\"DL\",\"DS\"],\n",
    "    0:\"Pakistan zinda bad\",\n",
    "    \"mutation type\": \"KARAS g12C\"\n",
    "}\n",
    "\n",
    "\n",
    "for abc in data.items():\n",
    "    print(abc)"
   ]
  },
  {
   "cell_type": "code",
   "execution_count": 90,
   "id": "872115de",
   "metadata": {},
   "outputs": [
    {
     "name": "stdout",
     "output_type": "stream",
     "text": [
      "100\n",
      "500\n"
     ]
    }
   ],
   "source": [
    "#100  500  = unzip\n",
    "a1 , a2 = (100, 500)\n",
    "\n",
    "print(a1)\n",
    "print(a2)"
   ]
  },
  {
   "cell_type": "code",
   "execution_count": 91,
   "id": "10da9c83",
   "metadata": {},
   "outputs": [
    {
     "name": "stdout",
     "output_type": "stream",
     "text": [
      "Keys is : name Value is Muhammad Qasim\n",
      "Keys is : father name Value is Muhammad Aslam\n",
      "Keys is : age Value is 30\n",
      "Keys is : education Value is MSDS\n",
      "Keys is : skills Value is ['AI', 'ML', 'DL', 'DS']\n",
      "Keys is : 0 Value is Pakistan zinda bad\n",
      "Keys is : mutation type Value is KARAS g12C\n"
     ]
    }
   ],
   "source": [
    "data = {\n",
    "    \"name\":\"Muhammad Qasim\",\n",
    "    \"father name\": \"Muhammad Aslam\",\n",
    "    \"age\": 30,\n",
    "    \"education\": \"MSDS\",\n",
    "    \"skills\": [\"AI\",\"ML\",\"DL\",\"DS\"],\n",
    "    0:\"Pakistan zinda bad\",\n",
    "    \"mutation type\": \"KARAS g12C\"\n",
    "}\n",
    "\n",
    "\n",
    "for k,v in data.items():\n",
    "    print(\"Keys is :\", k, \"Value is\",v)"
   ]
  },
  {
   "cell_type": "code",
   "execution_count": 92,
   "id": "95134a2d",
   "metadata": {},
   "outputs": [
    {
     "name": "stdout",
     "output_type": "stream",
     "text": [
      "name Muhammad Qasim\n",
      "father name Muhammad Aslam\n",
      "age 30\n",
      "education MSDS\n",
      "skills ['AI', 'ML', 'DL', 'DS']\n",
      "0 Pakistan zinda bad\n",
      "mutation type KARAS g12C\n"
     ]
    }
   ],
   "source": [
    "for k,v in data.items():\n",
    "    print(k,v)"
   ]
  },
  {
   "cell_type": "code",
   "execution_count": 93,
   "id": "978ed04a",
   "metadata": {},
   "outputs": [
    {
     "name": "stdout",
     "output_type": "stream",
     "text": [
      "name\n",
      "father name\n",
      "age\n",
      "education\n",
      "skills\n",
      "0\n",
      "mutation type\n"
     ]
    }
   ],
   "source": [
    "for i in data.keys():\n",
    "    print(i)"
   ]
  },
  {
   "cell_type": "code",
   "execution_count": 94,
   "id": "0b6d38cc",
   "metadata": {},
   "outputs": [
    {
     "name": "stdout",
     "output_type": "stream",
     "text": [
      "Muhammad Qasim\n",
      "Muhammad Aslam\n",
      "30\n",
      "MSDS\n",
      "['AI', 'ML', 'DL', 'DS']\n",
      "Pakistan zinda bad\n",
      "KARAS g12C\n"
     ]
    }
   ],
   "source": [
    "for i in data.values():\n",
    "    print(i)"
   ]
  },
  {
   "cell_type": "code",
   "execution_count": 95,
   "id": "2381ce80",
   "metadata": {},
   "outputs": [
    {
     "data": {
      "text/plain": [
       "'Pakistan zinda bad'"
      ]
     },
     "execution_count": 95,
     "metadata": {},
     "output_type": "execute_result"
    }
   ],
   "source": [
    "\"Pakistan zinda bad\""
   ]
  },
  {
   "cell_type": "code",
   "execution_count": 97,
   "id": "790dbb91",
   "metadata": {},
   "outputs": [
    {
     "name": "stdout",
     "output_type": "stream",
     "text": [
      "P\n",
      "a\n",
      "k\n",
      "i\n",
      "s\n",
      "t\n",
      "a\n",
      "n\n",
      " \n",
      "z\n",
      "i\n",
      "n\n",
      "d\n",
      "a\n",
      " \n",
      "b\n",
      "a\n",
      "d\n"
     ]
    }
   ],
   "source": [
    "for i in \"Pakistan zinda bad\":\n",
    "    print(i)"
   ]
  },
  {
   "cell_type": "code",
   "execution_count": 98,
   "id": "0f8f1c0d",
   "metadata": {},
   "outputs": [
    {
     "data": {
      "text/plain": [
       "['P',\n",
       " 'a',\n",
       " 'k',\n",
       " 'i',\n",
       " 's',\n",
       " 't',\n",
       " 'a',\n",
       " 'n',\n",
       " ' ',\n",
       " 'z',\n",
       " 'i',\n",
       " 'n',\n",
       " 'd',\n",
       " 'a',\n",
       " ' ',\n",
       " 'b',\n",
       " 'a',\n",
       " 'd']"
      ]
     },
     "execution_count": 98,
     "metadata": {},
     "output_type": "execute_result"
    }
   ],
   "source": [
    "list(\"Pakistan zinda bad\")"
   ]
  },
  {
   "cell_type": "code",
   "execution_count": 99,
   "id": "75d68362",
   "metadata": {},
   "outputs": [
    {
     "data": {
      "text/plain": [
       "{'fname': 'Aslam', 'age': 30, 'qualification': 'MSDS'}"
      ]
     },
     "execution_count": 99,
     "metadata": {},
     "output_type": "execute_result"
    }
   ],
   "source": [
    "data = {\n",
    "    'name':'Qasim',\n",
    "    'fname':'Aslam',\n",
    "    'age':30,\n",
    "    'qualification':'MSDS',\n",
    "\n",
    "}\n",
    "del data['name']\n",
    "data"
   ]
  },
  {
   "cell_type": "markdown",
   "id": "5649a1ae",
   "metadata": {},
   "source": [
    "# Return and None-Return function"
   ]
  },
  {
   "cell_type": "code",
   "execution_count": 101,
   "id": "c21c0938",
   "metadata": {},
   "outputs": [
    {
     "name": "stdout",
     "output_type": "stream",
     "text": [
      "Pakistan\n",
      "None\n"
     ]
    }
   ],
   "source": [
    "a = print(\"Pakistan\") # unable to stort value in variable = None REturn function\n",
    "print(a)# "
   ]
  },
  {
   "cell_type": "code",
   "execution_count": 103,
   "id": "255bb38e",
   "metadata": {},
   "outputs": [
    {
     "name": "stdout",
     "output_type": "stream",
     "text": [
      "8\n"
     ]
    }
   ],
   "source": [
    "a = len(\"Pakistan\")# 8 length to store in \"a\" variable\n",
    "print(a)"
   ]
  },
  {
   "cell_type": "code",
   "execution_count": 105,
   "id": "1b9bb284",
   "metadata": {},
   "outputs": [
    {
     "data": {
      "text/plain": [
       "{'fname': 'Aslam', 'age': 30, 'qualification': 'MSDS'}"
      ]
     },
     "execution_count": 105,
     "metadata": {},
     "output_type": "execute_result"
    }
   ],
   "source": [
    "data = {\n",
    "    'name':'Qasim',\n",
    "    'fname':'Aslam',\n",
    "    'age':30,\n",
    "    'qualification':'MSDS',\n",
    "\n",
    "}\n",
    "del data['name']\n",
    "data"
   ]
  },
  {
   "cell_type": "markdown",
   "id": "a37b10dd",
   "metadata": {},
   "source": [
    "# pop return and delete key:value pair"
   ]
  },
  {
   "cell_type": "code",
   "execution_count": 106,
   "id": "fa3f0685",
   "metadata": {},
   "outputs": [
    {
     "ename": "SyntaxError",
     "evalue": "invalid syntax (<ipython-input-106-29b8c099446e>, line 8)",
     "output_type": "error",
     "traceback": [
      "\u001b[0;36m  File \u001b[0;32m\"<ipython-input-106-29b8c099446e>\"\u001b[0;36m, line \u001b[0;32m8\u001b[0m\n\u001b[0;31m    a = del data['name']\u001b[0m\n\u001b[0m          ^\u001b[0m\n\u001b[0;31mSyntaxError\u001b[0m\u001b[0;31m:\u001b[0m invalid syntax\n"
     ]
    }
   ],
   "source": [
    "data = {\n",
    "    'name':'Qasim',\n",
    "    'fname':'Aslam',\n",
    "    'age':30,\n",
    "    'qualification':'MSDS',\n",
    "\n",
    "}\n",
    "a = del data['name']\n",
    "print(a)"
   ]
  },
  {
   "cell_type": "code",
   "execution_count": 107,
   "id": "1119065f",
   "metadata": {},
   "outputs": [
    {
     "data": {
      "text/plain": [
       "{'fname': 'Aslam', 'age': 30, 'qualification': 'MSDS'}"
      ]
     },
     "execution_count": 107,
     "metadata": {},
     "output_type": "execute_result"
    }
   ],
   "source": [
    "data = {\n",
    "    'name':'Qasim',\n",
    "    'fname':'Aslam',\n",
    "    'age':30,\n",
    "    'qualification':'MSDS',\n",
    "\n",
    "}\n",
    "data.pop(\"name\")\n",
    "data"
   ]
  },
  {
   "cell_type": "code",
   "execution_count": 109,
   "id": "9909b5ef",
   "metadata": {},
   "outputs": [
    {
     "name": "stdout",
     "output_type": "stream",
     "text": [
      "{'fname': 'Aslam', 'age': 30, 'qualification': 'MSDS'}\n",
      "Deleted  Qasim\n"
     ]
    }
   ],
   "source": [
    "data = {\n",
    "    'name':'Qasim',\n",
    "    'fname':'Aslam',\n",
    "    'age':30,\n",
    "    'qualification':'MSDS',\n",
    "\n",
    "}\n",
    "a = data.pop(\"name\")# return value\n",
    "print(data)\n",
    "print(\"Deleted \",a)\n"
   ]
  },
  {
   "cell_type": "code",
   "execution_count": 111,
   "id": "d770b4da",
   "metadata": {},
   "outputs": [
    {
     "name": "stdout",
     "output_type": "stream",
     "text": [
      "{'fname': 'Aslam', 'age': 30}\n",
      "['Qasim', 'MSDS']\n"
     ]
    }
   ],
   "source": [
    "completed_task = []\n",
    "\n",
    "data = {\n",
    "    'name':'Qasim',\n",
    "    'fname':'Aslam',\n",
    "    'age':30,\n",
    "    'qualification':'MSDS',\n",
    "\n",
    "}\n",
    "\n",
    "a = data.pop(\"name\")\n",
    "completed_task.append(a)\n",
    "\n",
    "b = data.pop(\"qualification\")\n",
    "completed_task.append(b)\n",
    "\n",
    "print(data)\n",
    "print(completed_task)"
   ]
  },
  {
   "cell_type": "code",
   "execution_count": 114,
   "id": "69779545",
   "metadata": {},
   "outputs": [
    {
     "name": "stdout",
     "output_type": "stream",
     "text": [
      "{'name': 'Qasim', 'fname': 'Aslam', 'age': 30, 'qualification': 'MSDS'}\n",
      "Deleted  ('qualification', 'MSDS')\n",
      "{'name': 'Qasim', 'fname': 'Aslam', 'age': 30}\n"
     ]
    }
   ],
   "source": [
    "data = {\n",
    "    'name':'Qasim',\n",
    "    'fname':'Aslam',\n",
    "    'age':30,\n",
    "    'qualification':'MSDS',\n",
    "\n",
    "}\n",
    "print(data)\n",
    "a = data.popitem()# return value\n",
    "\n",
    "print(\"Deleted \",a)\n",
    "print(data)\n"
   ]
  },
  {
   "cell_type": "code",
   "execution_count": null,
   "id": "da7e487b",
   "metadata": {},
   "outputs": [],
   "source": [
    "data = {\n",
    "    'name':'Qasim',\n",
    "    'fname':'Aslam',\n",
    "    'age':30,\n",
    "    'qualification':'MSDS',\n",
    "\n",
    "}\n",
    "print(data)\n",
    "a = data.popitem()# return value\n",
    "\n",
    "print(\"Deleted \",a)\n",
    "print(data)\n"
   ]
  }
 ],
 "metadata": {
  "kernelspec": {
   "display_name": "Python 3",
   "language": "python",
   "name": "python3"
  },
  "language_info": {
   "codemirror_mode": {
    "name": "ipython",
    "version": 3
   },
   "file_extension": ".py",
   "mimetype": "text/x-python",
   "name": "python",
   "nbconvert_exporter": "python",
   "pygments_lexer": "ipython3",
   "version": "3.7.15"
  }
 },
 "nbformat": 4,
 "nbformat_minor": 5
}
